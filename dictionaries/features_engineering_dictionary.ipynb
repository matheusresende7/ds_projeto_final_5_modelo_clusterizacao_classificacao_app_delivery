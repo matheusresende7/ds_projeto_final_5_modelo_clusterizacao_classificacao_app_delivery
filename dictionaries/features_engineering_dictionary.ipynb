{
 "cells": [
  {
   "cell_type": "markdown",
   "metadata": {},
   "source": [
    "# Dicionário de features engineering"
   ]
  },
  {
   "cell_type": "markdown",
   "metadata": {},
   "source": [
    "### Importando as bibliotecas"
   ]
  },
  {
   "cell_type": "code",
   "execution_count": 1,
   "metadata": {},
   "outputs": [],
   "source": [
    "import sys # Importando a biblioteca para acessar os níveis de pastas\n",
    "from IPython.display import Image, display # Importando a biblioteca para exibir imagens em Python\n",
    "sys.path.append('..') # Voltando um nível nas pastas do projeto para importar as funções e variáveis \n",
    "import params.consts as consts # Importando o pacote/biblioteca com as constantes do projeto"
   ]
  },
  {
   "cell_type": "markdown",
   "metadata": {},
   "source": [
    "## Pré Processamento dos Dados"
   ]
  },
  {
   "cell_type": "markdown",
   "metadata": {},
   "source": [
    "### One Hot Enconder"
   ]
  },
  {
   "cell_type": "code",
   "execution_count": 2,
   "metadata": {},
   "outputs": [
    {
     "data": {
      "image/png": "[encoded data removed]",
      "text/plain": [
       "<IPython.core.display.Image object>"
      ]
     },
     "metadata": {
      "image/png": {
       "width": 300
      }
     },
     "output_type": "display_data"
    }
   ],
   "source": [
    "display(Image(consts.ONE_HOT_ENCODER, width=300)) # Exibindo o gráfico"
   ]
  },
  {
   "cell_type": "markdown",
   "metadata": {},
   "source": [
    "O **One Hot Encoder** é uma técnica usada para converter variáveis categóricas em uma forma numérica compreensível para algoritmos de aprendizado de máquina. Como a maioria dos modelos não lida bem com variáveis categóricas, é necessário convertê-las em uma representação numérica. O problema com simplesmente atribuir números inteiros às categorias é que isso poderia sugerir uma relação ordinal entre elas, mesmo quando essa relação não existe.\n",
    "\n",
    "**Como funciona:**\n",
    "\n",
    "Se você tem uma variável categórica com n categorias, o One Hot Encoder criará n colunas binárias (valores 0 ou 1). Cada coluna corresponderá a uma das categorias, e um valor 1 será atribuído à coluna que representa a categoria presente naquele registro, enquanto as outras colunas terão valor 0.\n",
    "\n",
    "\n",
    "**Exemplo:**\n",
    "\n",
    "Se tivermos uma coluna chamada \"Cor\" com as categorias ['Vermelho', 'Azul', 'Verde'], o One Hot Encoder as transformaria em três colunas:\n",
    "\n",
    "| Cor      | Vermelho | Azul | Verde |\n",
    "|----------|----------|------|-------|\n",
    "| Vermelho | 1        | 0    | 0     |\n",
    "| Azul     | 0        | 1    | 0     |\n",
    "| Verde    | 0        | 0    | 1     |\n",
    "\n",
    "Essa abordagem evita que o modelo entenda que uma categoria tem maior peso ou ordem sobre outra, algo que ocorreria com um simples mapeamento numérico.\n",
    "\n",
    "**Quando usar:**\n",
    "\n",
    "- Para variáveis categóricas nominais (sem ordem), como cores, tipos de produtos, etc.\n",
    "- Quando o número de categorias não é muito grande, pois o One Hot Encoding aumenta significativamente o número de colunas.\n",
    "- Pode ser utilizado para números discretos que representam categorias, como códigos de regiões ou setores, onde os valores numéricos não têm significado ordinal (não há relação de ordem entre os números). Neste caso, o One Hot Encoder garante que o modelo não trate os valores como sequenciais ou com importância relativa."
   ]
  },
  {
   "cell_type": "markdown",
   "metadata": {},
   "source": [
    "### Standard Scaler"
   ]
  },
  {
   "cell_type": "code",
   "execution_count": 7,
   "metadata": {},
   "outputs": [
    {
     "data": {
      "image/png": "[encoded data removed]",
      "text/plain": [
       "<IPython.core.display.Image object>"
      ]
     },
     "metadata": {
      "image/png": {
       "width": 300
      }
     },
     "output_type": "display_data"
    }
   ],
   "source": [
    "display(Image(consts.STANDARD_SCALER, width=300)) # Exibindo o gráfico"
   ]
  },
  {
   "cell_type": "markdown",
   "metadata": {},
   "source": [
    "O **Standard Scaler** é uma técnica de normalização que transforma os dados para que tenham uma distribuição com média igual a 0 e desvio padrão igual a 1. Isso é feito subtraindo a média de cada valor e dividindo pelo desvio padrão da variável. Ele assume que os dados seguem uma distribuição normal ou aproximadamente normal.\n",
    "\n",
    "**Exemplo:**\n",
    "\n",
    "Se você tem uma variável de idade com média de 40 anos e desvio padrão de 15, a idade de 55 anos seria escalada assim:\n",
    "\n",
    "Z = (55-40)/15 = 1\n",
    "\n",
    "Isso significa que 55 anos está a uma unidade de desvio padrão acima da média.\n",
    "\n",
    "**Quando usar:**\n",
    "\n",
    "- Quando os dados seguem uma distribuição normal ou quando você deseja centralizar os dados.\n",
    "- Modelos sensíveis à escala, como regressão logística, SVM, KNN e redes neurais, se beneficiam dessa técnica."
   ]
  },
  {
   "cell_type": "markdown",
   "metadata": {},
   "source": [
    "### Power Transformation"
   ]
  },
  {
   "cell_type": "code",
   "execution_count": 6,
   "metadata": {},
   "outputs": [
    {
     "data": {
      "image/png": "[encoded data removed]",
      "text/plain": [
       "<IPython.core.display.Image object>"
      ]
     },
     "metadata": {
      "image/png": {
       "width": 300
      }
     },
     "output_type": "display_data"
    }
   ],
   "source": [
    "display(Image(consts.POWER_TRANSFORMATION, width=300)) # Exibindo o gráfico"
   ]
  },
  {
   "cell_type": "markdown",
   "metadata": {},
   "source": [
    "O **Power Transformation** é uma técnica para transformar variáveis não normalmente distribuídas em uma forma mais próxima de uma distribuição normal. Esse método é útil para estabilizar a variância, corrigir a assimetria (skewness) e tornar os dados mais adequados para algoritmos que assumem uma distribuição normal dos dados.\n",
    "\n",
    "**Tipos de Power Transformation:**\n",
    "- Box-Cox Transformation: Aplica uma transformação paramétrica baseada em um parâmetro λ. É aplicável apenas a dados positivos.\n",
    "- Yeo-Johnson Transformation: Similar ao Box-Cox, mas pode lidar com valores negativos ou zero.\n",
    "\n",
    "**Exemplo:**\n",
    "\n",
    "Se tivermos uma variável com alta assimetria à direita, o Power Transformation pode suavizar a cauda longa e trazer os dados para uma distribuição mais simétrica.\n",
    "\n",
    "**Quando usar:**\n",
    "\n",
    "- Para tratar variáveis com assimetria acentuada.\n",
    "- Para estabilizar a variância, especialmente em regressões lineares e outros modelos baseados em suposições de normalidade."
   ]
  },
  {
   "cell_type": "markdown",
   "metadata": {},
   "source": [
    "### Min-Max Scaler"
   ]
  },
  {
   "cell_type": "code",
   "execution_count": 8,
   "metadata": {},
   "outputs": [
    {
     "data": {
      "image/png": "[encoded data removed]",
      "text/plain": [
       "<IPython.core.display.Image object>"
      ]
     },
     "metadata": {
      "image/png": {
       "width": 300
      }
     },
     "output_type": "display_data"
    }
   ],
   "source": [
    "display(Image(consts.MIN_MAX_SCALER, width=300)) # Exibindo o gráfico"
   ]
  },
  {
   "cell_type": "markdown",
   "metadata": {},
   "source": [
    "O **Min-Max Scaler** transforma os dados para que todos os valores estejam dentro de um intervalo específico, normalmente entre 0 e 1. Essa técnica reescala os dados linearmente com base no valor mínimo e máximo da variável.\n",
    "\n",
    "**Exemplo:**\n",
    "\n",
    "Se a sua variável de idade vai de 18 a 80, a idade de 40 seria transformada da seguinte maneira:\n",
    "\n",
    "X = (40-18)/(80-18) = 0,355\n",
    "\n",
    "Isso coloca o valor da idade no intervalo entre 0 e 1.\n",
    "\n",
    "**Quando usar:**\n",
    "\n",
    "- Quando você sabe que os dados têm uma distribuição uniforme ou quando os valores têm limites fixos.\n",
    "- Frequentemente usado em algoritmos baseados em distâncias, como KNN e Redes Neurais, já que esses algoritmos são sensíveis à escala dos dados."
   ]
  }
 ],
 "metadata": {
  "kernelspec": {
   "display_name": "Python 3",
   "language": "python",
   "name": "python3"
  },
  "language_info": {
   "codemirror_mode": {
    "name": "ipython",
    "version": 3
   },
   "file_extension": ".py",
   "mimetype": "text/x-python",
   "name": "python",
   "nbconvert_exporter": "python",
   "pygments_lexer": "ipython3",
   "version": "3.12.4"
  }
 },
 "nbformat": 4,
 "nbformat_minor": 2
}
