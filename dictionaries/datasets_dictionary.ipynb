{
 "cells": [
  {
   "cell_type": "markdown",
   "metadata": {},
   "source": [
    "# Dicionário de datasets"
   ]
  },
  {
   "cell_type": "markdown",
   "metadata": {},
   "source": [
    "| Dataset            | Descrição                                                                                 |\n",
    "|--------------------|-------------------------------------------------------------------------------------------|\n",
    "| raw_database       | Dataset inicial do projeto                                                                |\n",
    "| processed_database | Dataset tratado, removendo somente as colunas realmente que não agregam valor             |\n",
    "| lean_database      | Dataset tratado, deixando somente as colunas importantes, sem informações redundantes     |"
   ]
  }
 ],
 "metadata": {
  "language_info": {
   "name": "python"
  }
 },
 "nbformat": 4,
 "nbformat_minor": 2
}
