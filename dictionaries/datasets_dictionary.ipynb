{
 "cells": [
  {
   "cell_type": "markdown",
   "metadata": {},
   "source": [
    "# Dicionário de datasets"
   ]
  },
  {
   "cell_type": "markdown",
   "metadata": {},
   "source": [
    "| Dataset            | Descrição                                                                                 |\n",
    "|--------------------|-------------------------------------------------------------------------------------------|\n",
    "| raw_dataset        | Dataset inicial do projeto                                                                |\n",
    "| processed_dataset  | Dataset tratado, removendo somente as colunas realmente que não agregam valor             |\n",
    "| lean_dataset       | Dataset tratado, deixando somente as colunas importantes, sem informações redundantes     |"
   ]
  }
 ],
 "metadata": {
  "language_info": {
   "name": "python"
  }
 },
 "nbformat": 4,
 "nbformat_minor": 2
}
