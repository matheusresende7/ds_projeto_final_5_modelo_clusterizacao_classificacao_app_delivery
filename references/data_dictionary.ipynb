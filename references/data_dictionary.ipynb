{
 "cells": [
  {
   "cell_type": "markdown",
   "metadata": {},
   "source": [
    "# Dicionário de dados\n",
    "\n",
    "Exemplo de dicionário de dados:\n",
    "\n",
    "| Nome da coluna | Descrição             | Tipo de dado |\n",
    "|----------------|-----------------------|--------------|\n",
    "| `coluna1`      | Descrição da coluna 1 | Numérico     |\n",
    "| `coluna2`      | Descrição da coluna 2 | Categórico   |\n",
    "| `coluna3`      | Descrição da coluna 3 | Data         |\n",
    "| `coluna4`      | Descrição da coluna 4 | Texto        |\n",
    "| `coluna5`      | Descrição da coluna 5 | Numérico     |"
   ]
  }
 ],
 "metadata": {
  "language_info": {
   "name": "python"
  }
 },
 "nbformat": 4,
 "nbformat_minor": 2
}
