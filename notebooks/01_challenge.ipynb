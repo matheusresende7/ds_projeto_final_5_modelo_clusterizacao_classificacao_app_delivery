{
 "cells": [
  {
   "cell_type": "markdown",
   "metadata": {},
   "source": [
    "![Wallpaper](../images/illustrations/data_science.png)"
   ]
  },
  {
   "cell_type": "markdown",
   "metadata": {},
   "source": [
    "# 01. Challenge"
   ]
  },
  {
   "cell_type": "markdown",
   "metadata": {},
   "source": [
    "### Projeto\n",
    "Modelos de clusterização e classificação para segmentação de clientes em campanhas de marketing em uma plataforma de delivery"
   ]
  },
  {
   "cell_type": "markdown",
   "metadata": {},
   "source": [
    "### Objetivo\n",
    "............................"
   ]
  },
  {
   "cell_type": "markdown",
   "metadata": {},
   "source": [
    "### Descrição\n",
    "........................................"
   ]
  },
  {
   "cell_type": "markdown",
   "metadata": {},
   "source": [
    "### Metodologia 5W2H\n",
    "\n",
    "|**Questionamento** |**Descrição**|\n",
    "|---------|-------|\n",
    "|**What?**<br>O que? | Lorem ipsum dolor sit amet. Eum officia doloribus et cupiditate nisi et sunt voluptatem nam facere placeat a odit tempore. Non tempora eligendi ex culpa odit aut cupiditate veritatis et quibusdam fugit. Aut autem iusto ex deserunt nihil ut sunt iusto vel quisquam harum?|\n",
    "|**Where?**<br>Onde? | Lorem ipsum dolor sit amet. Eum officia doloribus et cupiditate nisi et sunt voluptatem nam facere placeat a odit tempore. Non tempora eligendi ex culpa odit aut cupiditate veritatis et quibusdam fugit. Aut autem iusto ex deserunt nihil ut sunt iusto vel quisquam harum?|\n",
    "|**When?**<br>Quando? | Lorem ipsum dolor sit amet. Eum officia doloribus et cupiditate nisi et sunt voluptatem nam facere placeat a odit tempore. Non tempora eligendi ex culpa odit aut cupiditate veritatis et quibusdam fugit. Aut autem iusto ex deserunt nihil ut sunt iusto vel quisquam harum?|\n",
    "|**Who?**<br>Quem? | Lorem ipsum dolor sit amet. Eum officia doloribus et cupiditate nisi et sunt voluptatem nam facere placeat a odit tempore. Non tempora eligendi ex culpa odit aut cupiditate veritatis et quibusdam fugit. Aut autem iusto ex deserunt nihil ut sunt iusto vel quisquam harum?|\n",
    "|**Why?**<br>Por quê? | Lorem ipsum dolor sit amet. Eum officia doloribus et cupiditate nisi et sunt voluptatem nam facere placeat a odit tempore. Non tempora eligendi ex culpa odit aut cupiditate veritatis et quibusdam fugit. Aut autem iusto ex deserunt nihil ut sunt iusto vel quisquam harum?|\n",
    "|**How?**<br>Como? | Lorem ipsum dolor sit amet. Eum officia doloribus et cupiditate nisi et sunt voluptatem nam facere placeat a odit tempore. Non tempora eligendi ex culpa odit aut cupiditate veritatis et quibusdam fugit. Aut autem iusto ex deserunt nihil ut sunt iusto vel quisquam harum?|\n",
    "|**How Much?**<br>Quanto? | Lorem ipsum dolor sit amet. Eum officia doloribus et cupiditate nisi et sunt voluptatem nam facere placeat a odit tempore. Non tempora eligendi ex culpa odit aut cupiditate veritatis et quibusdam fugit. Aut autem iusto ex deserunt nihil ut sunt iusto vel quisquam harum?|"
   ]
  },
  {
   "cell_type": "markdown",
   "metadata": {},
   "source": [
    "### Fontes\n",
    "- **Repositório do desafio:** https://github.com/ifood/ifood-data-business-analyst-test"
   ]
  },
  {
   "cell_type": "markdown",
   "metadata": {},
   "source": [
    "### Bibliotecas\n",
    "- **Pandas:** https://pandas.pydata.org/docs/index.html\n",
    "- **NumPy:** https://pandas.pydata.org/docs/index.html\n",
    "- **Matplotlib:** https://matplotlib.org/\n",
    "- **Seaborn:** https://seaborn.pydata.org/\n",
    "- **Scikit Learning:** https://seaborn.pydata.org/"
   ]
  },
  {
   "cell_type": "code",
   "execution_count": 3,
   "metadata": {},
   "outputs": [
    {
     "name": "stdout",
     "output_type": "stream",
     "text": [
      "Versões das bibliotecas:\n",
      "\n",
      "-------------------- | ----------\n",
      "     Biblioteca      |   Versão  \n",
      "-------------------- | ----------\n",
      "Matplotlib           |      3.9.1\n",
      "NumPy                |     1.26.4\n",
      "Pandas               |      2.2.2\n",
      "Scikit-Learn         |      1.5.1\n",
      "Seaborn              |     0.13.2\n",
      "\n",
      "Versão do Python: 3.12.4\n"
     ]
    }
   ],
   "source": [
    "import sys # Importando a biblioteca para acessar os níveis de pastas\n",
    "sys.path.append('..') # Voltando um nível nas pastas do projeto para importar corretamente as funções e variáveis dos pacotes/bibliotecas\n",
    "\n",
    "import functions.fn_libraries as fn_libraries # Importando o pacote/biblioteca com as funções do projeto\n",
    "\n",
    "fn_libraries.libraries_versions() # Executando a função que exibe as versões das bibliotecas utilizadas no projeto"
   ]
  },
  {
   "cell_type": "markdown",
   "metadata": {},
   "source": [
    "### Estrutura do Projeto\n",
    "- **.venv/:** Pasta destinada a armazenar o ambiente virtual do projeto se necessário\n",
    "- **data/:** Pasta destinada a armazenar as versões dos datasets\n",
    "    - **final/:** Pasta destinada a armazenar os datasets finalizados após todos os tratamentos necessários\n",
    "    - **processed/:** Pasta destinada a armazenar os datasets que já tiveram algum tratamento\n",
    "    - **raw/:** Pasta destinada a armazenar os datasets brutos e que ainda não foram processados\n",
    "- **deploys/:** Pasta destinada a armazenar os deploys do projeto, em formatos ipynb, py, executável e Streamlit (.py)\n",
    "- **docs/:** Pasta destinada a armazenar os arquivos e documentos referentes ao projeto\n",
    "- **functions/:** Pasta destinada a armazenar arquivos com as funções dos projetos de ciência de dados\n",
    "    - `__init__.py`: Arquivo para indicar que a pasta é um pacote/biblioteca\n",
    "    - `fn_charts.py`: Arquivo de funções para criar gráficos recorrentes\n",
    "    - `fn_libraries.py`: Arquivo de funções para importação das bibliotecas\n",
    "    - `fn_stats.py`: Arquivos de funções para criar análises estatísticas recorrentes\n",
    "- **images/:** Pasta destinada a armazenar imagens do projeto\n",
    "    - **references/:** Pasta destinada a armazenar imagens de referência que foram utilizadas durante o projeto\n",
    "    - **outputs/:** Pasta destinada a armazenar imagens geradas durante o projeto, como gráficos e visualizações\n",
    "- **models/:** Pasta destinada a armazenar os modelos criados durante o projeto\n",
    "- **notebooks/:** Pasta destinada a armazenar os notebooks de cada etapa do projeto de ciência de dados\n",
    "    - `01_ challenge.ipynb`: Arquivo dedicado a etapa de Definição do Desafio ou Challenge\n",
    "    - `02_project_details.ipynb`: Arquivo dedicado a etapa de Detalhamento do Projeto ou Project Details\n",
    "    - `03_data_sourcing.ipynb`: Arquivo dedicado a etapa de Obtenção dos Dados – Data Sourcing\n",
    "    - `04_data_cleaning.ipynb`: Arquivo dedicado a etapa de Tratamento dos Dados ou Data Cleaning\n",
    "    - `05_exploratory_data_analysis.ipynb`: Arquivo dedicado a etapa de Análise Exploratória ou Exploratory Data Analysis \n",
    "    - `06_feature_engineering.ipynb`: Arquivo dedicado a etapa de Modelagem dos Dados ou Feature Engineering\n",
    "    - `07_models_selection.ipynb`: Arquivo dedicado a etapa de Seleção dos Modelos – Models Selection\n",
    "    - `08_models_training.ipynb`: Arquivo dedicado a etapa de Treinamento dos Modelos – Models Training\n",
    "    - `09_models_evaluation.ipynb`: Arquivo dedicado a etapa de Validação do Modelo – Models Evaluation\n",
    "    - `10_deployment.ipynb`: Arquivo dedicado a etapa de Deploy em Produção – Deployment\n",
    "- **params/:** Pasta destinada a armazenar as constantes e variáveis globais do projeto\n",
    "    - `__init__.py`: Arquivo para indicar que a pasta é um pacote/biblioteca\n",
    "    - `consts.py`: Arquivo para a armazenar as constantes globais do projeto\n",
    "    - `vars.py`: Arquivo para a armazenar as principais variáveis do projeto\n",
    "- **presentations/:** Pasta destinada a armazenar as apresentações do projeto, em PowerPoint e PDF\n",
    "- **reports/:** Pasta destinada a armazenar relatórios criados durante o projeto, em HTML, pela biblioteca y data profiling\n",
    "- `.env`: Arquivo para armazenar as variáveis de ambiente sensíveis do projeto, como usuários, senhas, tokens e chaves de API\n",
    "- `.gitattributes`: Arquivo para configurar o repositório e omitir arquivos sem utilidades da versão final do projeto\n",
    "- `.gitignore`: Arquivo para ignorar determinados arquivos ao subir o projeto para o Github\n",
    "- `LICENSE`: Arquivo com a licença do projeto\n",
    "- `README.md`: Arquivo para resumir e apresentar o projeto\n",
    "- `requirements.txt`: Arquivo para listar as dependências/bibliotecas necessárias no projeto\n"
   ]
  },
  {
   "cell_type": "markdown",
   "metadata": {},
   "source": [
    "### Etapas do Projeto\n",
    "- **01. Definição do desafio – Challenge:** Explica detalhadamente qual é o desafio que está se buscando resolver. Pode ser aplicado o método 5W2H\n",
    "- **02. Detalhamento do Projeto – Project Details:** Detalha e explica todas as informações dos datasets e gera um arquivo inicial de análise, y data profiling\n",
    "- **03. Obtenção dos Dados – Data Sourcing:** Realiza a obtenção dos dados para o projeto\n",
    "- **04. Tratamento dos Dados – Data Cleaning:** Realiza o tratamento dos dados para eliminar qualquer tipo de anomalia, como dados vazios, duplicados, etc\n",
    "- **05. Análise Exploratória – Exploratory Data Analysis (EDA):** Faz a análise exploratória dos dados para um entendimento melhor do projeto\n",
    "- **06. Modelagem dos Dados – Feature Engineering: Realiza os ajustes necessários nos dados para que os algoritmos de machine learning possam ser aplicados\n",
    "- **07. Seleção dos Modelos – Models Selection:** Seleciona os algoritmos de aprendizado de máquina que serão aplicados\n",
    "- **08. Treinamento dos Modelos – Models Training:** Realiza o treinamento dos modelos de aprendizado de máquina selecionados\n",
    "- **09. Validação do Modelo – Models Evaluation:** Faz a validação do modelo selecionado com base nos resultados das métricas de avaliação e define qual(is) modelo(s) será colocado em produção\n",
    "- **10. Deploy em Produção – Deployment:** Coloca o modelo definido em produção"
   ]
  },
  {
   "cell_type": "markdown",
   "metadata": {},
   "source": [
    "### Cronograma - Gráfico de Gantt"
   ]
  }
 ],
 "metadata": {
  "kernelspec": {
   "display_name": "Python 3",
   "language": "python",
   "name": "python3"
  },
  "language_info": {
   "codemirror_mode": {
    "name": "ipython",
    "version": 3
   },
   "file_extension": ".py",
   "mimetype": "text/x-python",
   "name": "python",
   "nbconvert_exporter": "python",
   "pygments_lexer": "ipython3",
   "version": "3.12.4"
  }
 },
 "nbformat": 4,
 "nbformat_minor": 2
}
