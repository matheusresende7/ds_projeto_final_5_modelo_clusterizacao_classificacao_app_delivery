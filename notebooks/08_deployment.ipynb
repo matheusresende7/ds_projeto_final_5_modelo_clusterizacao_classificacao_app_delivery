{
 "cells": [
  {
   "cell_type": "markdown",
   "metadata": {},
   "source": [
    "# 08. Deployment"
   ]
  },
  {
   "cell_type": "markdown",
   "metadata": {},
   "source": [
    "### Importando as bibliotecas"
   ]
  },
  {
   "cell_type": "code",
   "execution_count": 1,
   "metadata": {},
   "outputs": [],
   "source": [
    "import sys\n",
    "sys.path.append('..')\n",
    "import pandas as pd\n",
    "import params.consts as consts\n",
    "import joblib"
   ]
  },
  {
   "cell_type": "markdown",
   "metadata": {},
   "source": [
    "### Carregando o modelo"
   ]
  },
  {
   "cell_type": "code",
   "execution_count": 2,
   "metadata": {},
   "outputs": [],
   "source": [
    "model_classification = joblib.load(consts.MODEL_CLASSIFICATION_JOBLIB) # Carregando o modelo "
   ]
  },
  {
   "cell_type": "markdown",
   "metadata": {},
   "source": [
    "### Verificando as etapas do modelo"
   ]
  },
  {
   "cell_type": "code",
   "execution_count": 5,
   "metadata": {},
   "outputs": [
    {
     "data": {
      "text/plain": [
       "{'pre_processing': ColumnTransformer(transformers=[('one_hot', OneHotEncoder(),\n",
       "                                  ['Education', 'Marital_Status', 'AgeGroup',\n",
       "                                   'Children', 'HasChildren', 'Complain',\n",
       "                                   'Years_Since_Enrolled', 'AcceptedCmpTotal',\n",
       "                                   'HasAcceptedCmp', 'Cluster']),\n",
       "                                 ('standard', StandardScaler(),\n",
       "                                  ['Income', 'Age']),\n",
       "                                 ('min_max', MinMaxScaler(),\n",
       "                                  ['Recency', 'Days_Since_Enrolled']),\n",
       "                                 ('power', PowerTransformer(),\n",
       "                                  ['NumDealsPurchases', 'NumWebVisitsMonth',\n",
       "                                   'NumTotalPurchases', 'MntRegularProds',\n",
       "                                   'MntGoldProds', 'MntTotal'])]),\n",
       " 'feature_selection': SelectKBest(k=25),\n",
       " 'resampling': RandomUnderSampler(random_state=42),\n",
       " 'models': LogisticRegression(C=1000.0, random_state=42, solver='saga')}"
      ]
     },
     "execution_count": 5,
     "metadata": {},
     "output_type": "execute_result"
    }
   ],
   "source": [
    "model_classification.named_steps # Verificando as etapas do modelo"
   ]
  },
  {
   "cell_type": "markdown",
   "metadata": {},
   "source": [
    "### Realizando o deploy do projeto em formato ipynb"
   ]
  },
  {
   "cell_type": "markdown",
   "metadata": {},
   "source": [
    "### Realizando o deploy do projeto em formato py"
   ]
  },
  {
   "cell_type": "markdown",
   "metadata": {},
   "source": [
    "### Realizando o deploy do projeto em um arquivo executável"
   ]
  },
  {
   "cell_type": "markdown",
   "metadata": {},
   "source": [
    "### Realizando o deploy do projeto em Streamlit (.py)"
   ]
  }
 ],
 "metadata": {
  "kernelspec": {
   "display_name": "Python 3",
   "language": "python",
   "name": "python3"
  },
  "language_info": {
   "codemirror_mode": {
    "name": "ipython",
    "version": 3
   },
   "file_extension": ".py",
   "mimetype": "text/x-python",
   "name": "python",
   "nbconvert_exporter": "python",
   "pygments_lexer": "ipython3",
   "version": "3.12.4"
  }
 },
 "nbformat": 4,
 "nbformat_minor": 2
}
