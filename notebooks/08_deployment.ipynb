{
 "cells": [
  {
   "cell_type": "markdown",
   "metadata": {},
   "source": [
    "# 08. Deployment"
   ]
  },
  {
   "cell_type": "markdown",
   "metadata": {},
   "source": [
    "### Importando as bibliotecas"
   ]
  },
  {
   "cell_type": "code",
   "execution_count": 1,
   "metadata": {},
   "outputs": [],
   "source": [
    "import sys\n",
    "sys.path.append('..')\n",
    "import pandas as pd\n",
    "import params.consts as consts\n",
    "import joblib"
   ]
  },
  {
   "cell_type": "markdown",
   "metadata": {},
   "source": [
    "### Carregando o modelo"
   ]
  },
  {
   "cell_type": "code",
   "execution_count": 2,
   "metadata": {},
   "outputs": [],
   "source": [
    "model_classification = joblib.load(consts.MODEL_CLASSIFICATION_JOBLIB) # Carregando o modelo "
   ]
  },
  {
   "cell_type": "markdown",
   "metadata": {},
   "source": [
    "### Verificando o modelo"
   ]
  },
  {
   "cell_type": "code",
   "execution_count": 4,
   "metadata": {},
   "outputs": [
    {
     "data": {
      "text/plain": [
       "array(['one_hot__Education_PhD', 'one_hot__Marital_Status_Partner',\n",
       "       'one_hot__Marital_Status_Single', 'one_hot__Children_0',\n",
       "       'one_hot__Children_1', 'one_hot__HasChildren_0',\n",
       "       'one_hot__HasChildren_1', 'one_hot__Years_Since_Enrolled_0',\n",
       "       'one_hot__Years_Since_Enrolled_1', 'one_hot__AcceptedCmpTotal_0',\n",
       "       'one_hot__AcceptedCmpTotal_1', 'one_hot__AcceptedCmpTotal_2',\n",
       "       'one_hot__AcceptedCmpTotal_3', 'one_hot__AcceptedCmpTotal_4',\n",
       "       'one_hot__HasAcceptedCmp_0', 'one_hot__HasAcceptedCmp_1',\n",
       "       'one_hot__Cluster_0', 'one_hot__Cluster_1', 'standard__Income',\n",
       "       'min_max__Recency', 'min_max__Days_Since_Enrolled',\n",
       "       'power__NumTotalPurchases', 'power__MntRegularProds',\n",
       "       'power__MntGoldProds', 'power__MntTotal'], dtype=object)"
      ]
     },
     "execution_count": 4,
     "metadata": {},
     "output_type": "execute_result"
    }
   ],
   "source": [
    "model_classification[:-1].get_feature_names_out() # Visualizando as features após o Feature Selection"
   ]
  },
  {
   "cell_type": "markdown",
   "metadata": {},
   "source": [
    "### Realizando o deploy do projeto em formato ipynb"
   ]
  },
  {
   "cell_type": "markdown",
   "metadata": {},
   "source": [
    "### Realizando o deploy do projeto em formato py"
   ]
  },
  {
   "cell_type": "markdown",
   "metadata": {},
   "source": [
    "### Realizando o deploy do projeto em um arquivo executável"
   ]
  },
  {
   "cell_type": "markdown",
   "metadata": {},
   "source": [
    "### Realizando o deploy do projeto em Streamlit (.py)"
   ]
  }
 ],
 "metadata": {
  "kernelspec": {
   "display_name": "Python 3",
   "language": "python",
   "name": "python3"
  },
  "language_info": {
   "codemirror_mode": {
    "name": "ipython",
    "version": 3
   },
   "file_extension": ".py",
   "mimetype": "text/x-python",
   "name": "python",
   "nbconvert_exporter": "python",
   "pygments_lexer": "ipython3",
   "version": "3.12.4"
  }
 },
 "nbformat": 4,
 "nbformat_minor": 2
}
